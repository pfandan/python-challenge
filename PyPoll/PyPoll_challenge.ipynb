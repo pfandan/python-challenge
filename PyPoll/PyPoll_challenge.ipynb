{
 "cells": [
  {
   "cell_type": "code",
   "execution_count": 40,
   "id": "a7f7ef29",
   "metadata": {},
   "outputs": [],
   "source": [
    "import csv\n",
    "import os\n",
    "import operator"
   ]
  },
  {
   "cell_type": "code",
   "execution_count": 43,
   "id": "78d3335d",
   "metadata": {},
   "outputs": [
    {
     "name": "stdout",
     "output_type": "stream",
     "text": [
      "369711\n",
      "[{'name': 'Charles Casper Stockham', 'Percentage': 23.05, 'votes': 85213}, {'name': 'Diana DeGette', 'Percentage': 73.81, 'votes': 272892}, {'name': 'Raymon Anthony Doane', 'Percentage': 3.14, 'votes': 11606}]\n"
     ]
    }
   ],
   "source": [
    "csvpath = os.path.join(\"Resources\" , \"election_data.csv\")\n",
    "with open(csvpath) as csvfile:\n",
    "    \n",
    "    reader_object = csv.reader(csvfile)\n",
    "    next(reader_object)\n",
    "    \n",
    "    votes =0 \n",
    "    dict = {}\n",
    "    \n",
    "    \n",
    "    for row in reader_object:\n",
    "        votes = votes+1 \n",
    "        if row[2] not in dict:\n",
    "          dict[row[2]]=0\n",
    "        dict[row[2]]=dict[row[2]]+1\n",
    "        final_list = [{'name': row,'Percentage' : round(dict[row]/369711*100,2), 'votes': dict[row]} for row in dict]                       \n",
    "        #max(final_list.percentage(), key=operator.itemgetter(1))[0]\n",
    "    print(votes) \n",
    "    print(final_list)\n",
    "    \n",
    "    \n",
    "    \n",
    "    "
   ]
  },
  {
   "cell_type": "code",
   "execution_count": null,
   "id": "dc1c8148",
   "metadata": {},
   "outputs": [],
   "source": []
  },
  {
   "cell_type": "code",
   "execution_count": null,
   "id": "940376f1",
   "metadata": {},
   "outputs": [],
   "source": []
  }
 ],
 "metadata": {
  "kernelspec": {
   "display_name": "Python 3 (ipykernel)",
   "language": "python",
   "name": "python3"
  },
  "language_info": {
   "codemirror_mode": {
    "name": "ipython",
    "version": 3
   },
   "file_extension": ".py",
   "mimetype": "text/x-python",
   "name": "python",
   "nbconvert_exporter": "python",
   "pygments_lexer": "ipython3",
   "version": "3.9.13"
  }
 },
 "nbformat": 4,
 "nbformat_minor": 5
}
